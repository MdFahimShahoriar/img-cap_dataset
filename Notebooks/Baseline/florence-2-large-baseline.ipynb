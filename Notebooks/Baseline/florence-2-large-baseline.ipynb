version https://git-lfs.github.com/spec/v1
oid sha256:83c59eaa9a5037aab11cabb64ddb6efc1cf1884d958c3ec6a10b729da2355d6f
size 6426213
