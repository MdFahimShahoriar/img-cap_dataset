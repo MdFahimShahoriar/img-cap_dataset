version https://git-lfs.github.com/spec/v1
oid sha256:01b6a589f785e6f3c07a26622cdecfaa090b6866d3608285f11748528ddc8ee4
size 8021578
