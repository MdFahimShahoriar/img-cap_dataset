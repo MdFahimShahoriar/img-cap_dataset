version https://git-lfs.github.com/spec/v1
oid sha256:24dc219d502f1a327bfbe1b03c5a0fdc4d4284753c3819e1606b30bb4d9baf37
size 9109935
