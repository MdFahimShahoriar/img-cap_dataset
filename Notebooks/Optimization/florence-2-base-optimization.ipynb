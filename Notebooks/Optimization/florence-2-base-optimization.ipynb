version https://git-lfs.github.com/spec/v1
oid sha256:89147ed4f4af07c305386081ff8ef50f6c34bc7710935d292f04e5fbd98ce5ed
size 7026456
