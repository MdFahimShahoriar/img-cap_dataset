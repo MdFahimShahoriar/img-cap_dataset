version https://git-lfs.github.com/spec/v1
oid sha256:c349001fb81d36425f0c2b29d98a2b9a9ba3bf5291feb7038bfc4c855bfe38ae
size 7356208
